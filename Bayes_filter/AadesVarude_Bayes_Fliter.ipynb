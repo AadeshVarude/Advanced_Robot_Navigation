{
  "nbformat": 4,
  "nbformat_minor": 0,
  "metadata": {
    "colab": {
      "provenance": []
    },
    "kernelspec": {
      "name": "python3",
      "display_name": "Python 3"
    },
    "language_info": {
      "name": "python"
    }
  },
  "cells": [
    {
      "cell_type": "markdown",
      "source": [
        "**Task 1**\n",
        "\n",
        "So according to the given sensor/measurement model in equation 1\n",
        "\n",
        "p(z=1|x=1)=0.6, this means that the door is at open state and the probability that the sensor also measure the door to be open is 60%.\n",
        "\n",
        "p(z=0|x=1)=0.4, this means that the door is at open state and the probability that the sensor measures the door to be close is 40%.\n",
        "\n",
        "p(z=1|x=0)=0.2, this means that the door is at close state and the probability that the sensor measures the door to be open is 20%.\n",
        "\n",
        "p(z=0|x=0)=0.8, this means that the door is at close state and the probability that the sensor measures the door to be close is 80%.\n",
        "\n",
        "These above equations indicate us that the sensor is reliability to detect the closed doors is better with 80% accuracy whereas  when the door is open it detects the state of the door correctly with just 60% accuracy, in this case the reliability for detecting open door is low. Therefore we have better relaibility for close door rather than detecting open door.\n",
        "\n",
        "**For Part B**\n",
        "\n",
        "We have two control option that is u = [push, do nothing] , and the states are x = [open, closed].\n",
        "\n",
        "Now we have the state transition probabilities that is for u = push:\n",
        "\n",
        "$p(x_{t} = open | x_{t-1} = open) = 1 $\n",
        "\n",
        "$p(x_{t} = close | x_{t-1} = open) = 0$\n",
        "\n",
        "$p(x_{t} = open | x_{t-1} = close) = 0.8$\n",
        "\n",
        "$p(x_{t} = close | x_{t-1} = close) = 0.2$\n",
        "\n",
        "Now if we write the probability of x and x_prev_state in a matrix form for u = push:\n",
        "\n",
        "$\\begin{pmatrix}\n",
        "  x_{t1} \\\\\n",
        "  x_{t2} \\\\\n",
        " \\end{pmatrix} =\n",
        " A\n",
        " \\begin{pmatrix}\n",
        "  x_{t1-1} \\\\\n",
        "  x_{t2-1} \\\\\n",
        " \\end{pmatrix}\n",
        " $\n",
        "\n",
        "$\\begin{pmatrix}\n",
        "  x_{t1} \\\\\n",
        "  x_{t2} \\\\\n",
        " \\end{pmatrix} =\n",
        " \\begin{pmatrix}\n",
        "  1 & 0.8 \\\\\n",
        "  0 & 0.2 \\\\\n",
        " \\end{pmatrix}\n",
        " \\begin{pmatrix}\n",
        "  x_{t1-1} \\\\\n",
        "  x_{t2-1} \\\\\n",
        " \\end{pmatrix}\n",
        " $\n",
        "\n",
        " $A=\\begin{pmatrix}\n",
        "  1 & 0.8 \\\\\n",
        "  0 & 0.2 \\\\\n",
        " \\end{pmatrix}$\n",
        "\n",
        " where $x_{t1}$ is open state and $x_{t2}$ is close state.\n",
        "\n",
        " For case 2 u = do nothing the state remains the same so the A matrix would be Identity matrix.\n",
        "\n",
        " $\\begin{pmatrix}\n",
        "  x_{t1} \\\\\n",
        "  x_{t2} \\\\\n",
        " \\end{pmatrix} =\n",
        " \\begin{pmatrix}\n",
        "  1 & 0 \\\\\n",
        "  0 & 1 \\\\\n",
        " \\end{pmatrix}\n",
        " \\begin{pmatrix}\n",
        "  x_{t1-1} \\\\\n",
        "  x_{t2-1} \\\\\n",
        " \\end{pmatrix}\n",
        " $\n",
        "\n",
        " **In both the cases we observe that the system is Linear and it follows the markov assumption.**\n"
      ],
      "metadata": {
        "id": "uszToApJ63sy"
      }
    },
    {
      "cell_type": "markdown",
      "source": [
        "**Task 2**\n",
        "1. In question 1 it requires  9 iterations to reach 99.99% certainty for the\n",
        "   door being open,  when the action is do nothing and the the door is open\n",
        "\n",
        "2. In question 2 it requires  4 iterations to reach 99.99% certainty for the door being open,  when the action is push and the the door is open\n",
        "3. In question3 it requires 10 iterations to attain a steady state where it reaches 99.9955% and stating the belief of the door to be **open**.\n"
      ],
      "metadata": {
        "id": "NR2fsSc0LLwM"
      }
    },
    {
      "cell_type": "code",
      "source": [
        "import numpy as np\n",
        "\n",
        "def predict(beliefs, action, transition_probs):\n",
        "  \"\"\"\n",
        "  Predict the next state beliefs based on the current action.\n",
        "\n",
        "  Parameters:\n",
        "  - beliefs (list): Current beliefs about the state [open, closed].\n",
        "  - action (int): Index representing the action taken.\n",
        "  - transition_probs (list): Transition probabilities matrix.\n",
        "\n",
        "  Returns:\n",
        "  - predicted_beliefs (list): Predicted beliefs about the next state [open, closed].\n",
        "  \"\"\"\n",
        "\n",
        "\n",
        "  # Here I make prediction of the door to be in open state\n",
        "  # For this I take the transition probabilities for the next state for the door being open given the action to predict the belief of door being open\n",
        "  predicted_open = transition_probs[action][0] * beliefs[0] + transition_probs[action][1] * beliefs[1]\n",
        "\n",
        "\n",
        "  # Calculate the predicted probability of the door being closed,\n",
        "  # considering that the sum of probabilities for open and closed states is always 1\n",
        "  predicted_closed = 1 - predicted_open\n",
        "\n",
        "  return [predicted_open, predicted_closed]\n",
        "\n"
      ],
      "metadata": {
        "id": "g-M9nxl5FoHS"
      },
      "execution_count": 43,
      "outputs": []
    },
    {
      "cell_type": "code",
      "source": [
        "def update(beliefs, measurement, sensor_probs):\n",
        "  \"\"\"\n",
        "  Update the beliefs based on the sensor measurement.\n",
        "\n",
        "  Parameters:\n",
        "  - beliefs (list): Current beliefs about the state [open, closed].\n",
        "  - measurement (int): Index representing the sensor measurement.\n",
        "  - sensor_probs (list): Sensor probability matrix.\n",
        "\n",
        "  Returns:\n",
        "  - updated_beliefs (list): Updated beliefs about the state [open, closed].\n",
        "  \"\"\"\n",
        "\n",
        "  # Calculate normalization factor for Bayes update rule\n",
        "  normalization_factor = 1 / (sensor_probs[measurement][0] * beliefs[0] + sensor_probs[measurement][1] * beliefs[1])\n",
        "\n",
        "  # Update the predicted belief with sensor measurements for open and closed states of the door\n",
        "  updated_open = normalization_factor * sensor_probs[measurement][0] * beliefs[0]\n",
        "  updated_closed = 1 - updated_open\n",
        "\n",
        "  return [updated_open, updated_closed]\n",
        "\n",
        "# Define the transition probabilities for the next state being open given the current action\n",
        "\n",
        "transition_probs = [\n",
        "    [1, 0],            # [p(x = open | u = do_nothing, x_prev_state = open) = 1, p(x = open | u = do_nothing, x_prev_state = closed) = 0]\n",
        "    [1, 0.8]           # [p(x = open | u = push, x_prev_state = open) = 1, p(x = open | u = push, x_prev_state = closed) = 0.8]\n",
        "]\n",
        "\n",
        "# Define sensor probabilities\n",
        "# [[p(z = closed | x = open) = 0.4, p(z = closed | x = closed) = 0.8],\n",
        "#  [p(z = open | x = open) = 0.6, p(z = open | x = closed) = 0.2]]\n",
        "\n",
        "sensor_probabilities = [\n",
        "    [0.4, 0.8],\n",
        "    [0.6, 0.2]\n",
        "]\n"
      ],
      "metadata": {
        "id": "bFHt8JeRj6Dp"
      },
      "execution_count": 44,
      "outputs": []
    },
    {
      "cell_type": "code",
      "source": [
        "def bayes_filter(action_measurement_pair,task3=False):\n",
        "\n",
        "  # Define the initial beliefs\n",
        "  initial_beliefs = [0.5, 0.5]\n",
        "\n",
        "  # To keep count for number of iterations\n",
        "  iteration = 0\n",
        "\n",
        "  while True:\n",
        "    # Store the current beliefs for comparison in the next iteration\n",
        "    prev_updated_beliefs = initial_beliefs\n",
        "\n",
        "    # Predict step\n",
        "    predicted_beliefs = predict(initial_beliefs, action_measurement_pair[0], transition_probs)\n",
        "\n",
        "    # Update step\n",
        "    updated_beliefs = update(predicted_beliefs, action_measurement_pair[1], sensor_probabilities)\n",
        "\n",
        "    # Update the initial beliefs for the next iteration\n",
        "    initial_beliefs = updated_beliefs\n",
        "    # Increment iteration\n",
        "    iteration += 1\n",
        "\n",
        "    # Condition for the first and second question\n",
        "    if (initial_beliefs[0] >= 0.9999 or initial_beliefs[1] >= 0.9999) and not task3:  # 0.9999 is the threshold for certainty in the belief\n",
        "      break\n",
        "\n",
        "    # Condition for the third question where the steady state is to be measured\n",
        "    if iteration > 1 and abs(prev_updated_beliefs[0] - updated_beliefs[0]) < 1e-4:\n",
        "      break\n",
        "\n",
        "\n",
        "  return updated_beliefs, iteration"
      ],
      "metadata": {
        "id": "mepXI5nqkBGd"
      },
      "execution_count": 45,
      "outputs": []
    },
    {
      "cell_type": "code",
      "source": [
        "#Test Cases\n",
        "#Task 2 First question\n",
        "# Define possible action and measurement combinations\n",
        "action_measurement_pair = [0, 1]\n",
        "belief,iteration=bayes_filter(action_measurement_pair,task3=False) #applying bayes filter\n",
        "print(\"Number of iterations for which the robot is certain that the door is open\",iteration)\n",
        "\n",
        "#Task 2 Second question\n",
        "# Define possible action and measurement combinations\n",
        "action_measurement_pair = np.array([1, 1])\n",
        "belief,iteration=bayes_filter(action_measurement_pair,task3=False) #applying bayes filter\n",
        "print(\"Number of iterations for which the robot is certain that the door is open\",iteration)\n",
        "\n",
        "#Task 2 Third question\n",
        "# Define possible action and measurement combinations\n",
        "action_measurement_pair = np.array([1, 0])\n",
        "belief,iteration=bayes_filter(action_measurement_pair,task3=True) #applying bayes filter\n",
        "print(\"Number of iterations :\",iteration, \"The steady state certainity :\",belief[0])\n"
      ],
      "metadata": {
        "colab": {
          "base_uri": "https://localhost:8080/"
        },
        "id": "XM_zPp5XkFjT",
        "outputId": "6109fd13-445f-4be4-8cc9-1149a04d92c7"
      },
      "execution_count": 46,
      "outputs": [
        {
          "output_type": "stream",
          "name": "stdout",
          "text": [
            "Number of iterations for which the robot is certain that the door is open 9\n",
            "Number of iterations for which the robot is certain that the door is open 4\n",
            "Number of iterations : 10 The steady state certainity : 0.999955060355391\n"
          ]
        }
      ]
    }
  ]
}